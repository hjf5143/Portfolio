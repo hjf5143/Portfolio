{
  "nbformat": 4,
  "nbformat_minor": 0,
  "metadata": {
    "colab": {
      "name": "DS397Project.ipynb",
      "provenance": [],
      "collapsed_sections": []
    },
    "kernelspec": {
      "name": "python3",
      "display_name": "Python 3"
    },
    "language_info": {
      "name": "python"
    }
  },
  "cells": [
    {
      "cell_type": "markdown",
      "source": [
        "#Final project DS 397\n",
        "##Determining the most Similar Movie to Cars\n",
        "###Hunter Fristick"
      ],
      "metadata": {
        "id": "XkyjjdvNaN8_"
      }
    },
    {
      "cell_type": "markdown",
      "source": [
        "##Below are the Links to the data being used in this project\n",
        "https://themostinportantwikisincegodwascreated.fandom.com/wiki/THE_ENTIRE_CARS_SCRIPT\n",
        "\n",
        "https://acerbialberto.com/publication/2018_imsdb/\n",
        "\n",
        "###To run this file on your own you will need to place the movie_scripts folder into your google drive. "
      ],
      "metadata": {
        "id": "_c0VZHKQ4sh7"
      }
    },
    {
      "cell_type": "markdown",
      "source": [
        "##Overview\n",
        "For this project, I wanted to see what movie script in a dataset of 1,093 scripts was the most similar to the Cars movie. I used TF-IDF vectors and scored based on cosine similairty to determine which had the highest similarity.  To compute the TF-IDF and cosine similarity quicker, I used sklearn because it took significantly longer to run when coding it without this package.  I also used the nltk pachage to import in stopwords that needed to be removed  as well as to get the stem of every word."
      ],
      "metadata": {
        "id": "V_lhCRE5fCLu"
      }
    },
    {
      "cell_type": "markdown",
      "source": [
        "#Formulas Used\n",
        "TF-IDF = tf(t,d) * log(N/(df+1))\n",
        "\n",
        "Cosine Similarity = 1-dot(cars_script,script2)/(norm(Lcars_script)*norm(script2))"
      ],
      "metadata": {
        "id": "guZ2D7_Xgamx"
      }
    },
    {
      "cell_type": "code",
      "source": [
        "#Importing necessary packages\n",
        "import pandas as pd\n",
        "import os\n",
        "import nltk\n",
        "nltk.download('stopwords')\n",
        "from nltk.corpus import stopwords\n",
        "extrawords = stopwords.words('english')\n",
        "from nltk.stem import PorterStemmer\n"
      ],
      "metadata": {
        "colab": {
          "base_uri": "https://localhost:8080/",
          "height": 0
        },
        "id": "CS-9sImeWRQu",
        "outputId": "bd2c2838-cf46-41e4-bc8a-b59107509f60"
      },
      "execution_count": 30,
      "outputs": [
        {
          "output_type": "stream",
          "name": "stdout",
          "text": [
            "[nltk_data] Downloading package stopwords to /root/nltk_data...\n",
            "[nltk_data]   Package stopwords is already up-to-date!\n"
          ]
        }
      ]
    },
    {
      "cell_type": "code",
      "source": [
        "#Connecting to Google Drive to load in data\n",
        "from google.colab import drive\n",
        "drive.mount('/content/gdrive')\n",
        "%cd '/content/gdrive/My Drive/movie_scripts'"
      ],
      "metadata": {
        "colab": {
          "base_uri": "https://localhost:8080/",
          "height": 0
        },
        "id": "w6xEEle_wsDx",
        "outputId": "06f22d86-df65-45b2-b20c-51078de7ad2a"
      },
      "execution_count": 31,
      "outputs": [
        {
          "output_type": "stream",
          "name": "stdout",
          "text": [
            "Drive already mounted at /content/gdrive; to attempt to forcibly remount, call drive.mount(\"/content/gdrive\", force_remount=True).\n",
            "/content/gdrive/My Drive/movie_scripts\n"
          ]
        }
      ]
    },
    {
      "cell_type": "markdown",
      "source": [
        "In the below code I first read in each script from the movie_scripts flie in MyDrive. Then, I seperated each script by words. Next, I removed stopwords and switched every word to the stems of them using PorterStemmer(). The scripts are then added to a list of all scripts called scripts. \n",
        "\n",
        "Disclaimer: This code block takes around 10 minutes to run."
      ],
      "metadata": {
        "id": "hEffp28rhYrX"
      }
    },
    {
      "cell_type": "code",
      "source": [
        "#Create lists\n",
        "scripts = []\n",
        "filenames = []\n",
        "stemmer = PorterStemmer()\n",
        "\n",
        "#Directory loaction\n",
        "path =r'/content/gdrive/My Drive/movie_scripts'\n",
        "os.chdir(path)\n",
        "\n",
        "#Read through the files, split by word, remove stopwords, and append to scripts list\n",
        "def read_files(file_path):\n",
        "   with open(file_path) as f:\n",
        "      lines = f.read()\n",
        "      line = lines.split()\n",
        "      filenames.append(file_path)\n",
        "      removewords(line)\n",
        "      scripts.append(line)\n",
        "\n",
        "#Removes stop words from each script\n",
        "def removewords(word_list):\n",
        "  for i in range(len(word_list)):\n",
        "    word_list[i] = word_list[i].lower()\n",
        "    if i in extrawords:\n",
        "      word_list.remove(i)\n",
        "    word_list[i] = stemmer.stem(word_list[i])\n",
        "\n",
        "#Loop through all files that end in .txt in the directory\n",
        "for f in os.listdir():\n",
        "   if f.endswith('.txt'):\n",
        "      #Create the filepath of each file to import\n",
        "      file_path =f\"{path}/{f}\"\n",
        "      read_files(file_path)"
      ],
      "metadata": {
        "id": "pU3A1nDM6suj"
      },
      "execution_count": 32,
      "outputs": []
    },
    {
      "cell_type": "code",
      "source": [
        "#First ten file names\n",
        "filenames[1:10]"
      ],
      "metadata": {
        "colab": {
          "base_uri": "https://localhost:8080/",
          "height": 0
        },
        "id": "9qdr4Ic0_ETB",
        "outputId": "a795d4ed-e3e2-4d2f-bb0b-a320218f9eeb"
      },
      "execution_count": 33,
      "outputs": [
        {
          "output_type": "execute_result",
          "data": {
            "text/plain": [
              "['/content/gdrive/My Drive/movie_scripts/Script_White Ribbon, The.txt',\n",
              " '/content/gdrive/My Drive/movie_scripts/Script_Perks of Being a Wallflower, The.txt',\n",
              " '/content/gdrive/My Drive/movie_scripts/Script_Bodyguard.txt',\n",
              " '/content/gdrive/My Drive/movie_scripts/Script_Peeping Tom.txt',\n",
              " '/content/gdrive/My Drive/movie_scripts/Script_Freaked.txt',\n",
              " '/content/gdrive/My Drive/movie_scripts/Script_Wall Street.txt',\n",
              " '/content/gdrive/My Drive/movie_scripts/Script_Life of David Gale, The.txt',\n",
              " '/content/gdrive/My Drive/movie_scripts/Script_Fast Times at Ridgemont High.txt',\n",
              " '/content/gdrive/My Drive/movie_scripts/Script_Memento.txt']"
            ]
          },
          "metadata": {},
          "execution_count": 33
        }
      ]
    },
    {
      "cell_type": "markdown",
      "source": [
        "In this code I created a for-loop to loop through each movie script to compare them to the Cars script.  I used TfidfVectorizer from sklearn to  get the TF-IDF scores for the words in each script combination.  I then calculated the cosine similarity sklearn.metrics and appending each similarity score to a dictionary."
      ],
      "metadata": {
        "id": "DxOSLJ1JiMia"
      }
    },
    {
      "cell_type": "code",
      "source": [
        "from sklearn.metrics.pairwise import cosine_similarity\n",
        "from sklearn.feature_extraction.text import TfidfVectorizer\n",
        "#Load in the TF-IF Vectors\n",
        "vectorizer = TfidfVectorizer()\n",
        "highestcossim = {}\n",
        "#Loop through every script in scripts, comapring each to The Cars Script\n",
        "for i in range(len(scripts)):\n",
        "  vectors = vectorizer.fit_transform([str(scripts[filenames.index('/content/gdrive/My Drive/movie_scripts/carsscript.txt')]), str(scripts[i])])\n",
        "  feature_names = vectorizer.get_feature_names_out()\n",
        "  dense = vectors.todense()\n",
        "  denselist = dense.tolist()\n",
        "  #Creating a dateframe of the TF-IDF Scores and computing the cosine similairty\n",
        "  df = pd.DataFrame(denselist, columns=feature_names)\n",
        "  x = cosine_similarity(df)\n",
        "  #Add the Cosine Similairy and File name to the highestcosin dict\n",
        "  highestcossim[filenames[i]] = (x[0][1])\n",
        "  highestcossim"
      ],
      "metadata": {
        "id": "tNw_e1-vbruK"
      },
      "execution_count": 34,
      "outputs": []
    },
    {
      "cell_type": "markdown",
      "source": [
        "Below I removed the max score since this is were the Cars Script is comparing to itself and then output the true highest cosine similarity score."
      ],
      "metadata": {
        "id": "SpKEHSe2jA-y"
      }
    },
    {
      "cell_type": "code",
      "source": [
        "#Remove the Cars vs itself cosine similairty and return the best match\n",
        "del highestcossim[(max(highestcossim, key=highestcossim.get))]\n",
        "maxcos = max(highestcossim, key=highestcossim.get)\n",
        "print('Higest Cosine:', highestcossim[maxcos])\n",
        "print('File Name:', maxcos)"
      ],
      "metadata": {
        "colab": {
          "base_uri": "https://localhost:8080/",
          "height": 0
        },
        "id": "vkxMUV4GiheK",
        "outputId": "e016b088-2e9b-477e-b017-60b9d4186d16"
      },
      "execution_count": 35,
      "outputs": [
        {
          "output_type": "stream",
          "name": "stdout",
          "text": [
            "Higest Cosine: 0.7547541618546647\n",
            "File Name: /content/gdrive/My Drive/movie_scripts/Script_Cars 2.txt\n"
          ]
        }
      ]
    },
    {
      "cell_type": "markdown",
      "source": [
        "In this codeblock below, I converted the similairty score dictionary to a dateframe and sorted to see top scores. Finally, i exported the findings to a csv file."
      ],
      "metadata": {
        "id": "HCM2Qm2rjVQa"
      }
    },
    {
      "cell_type": "code",
      "source": [
        "#Turn Results into dataframe and sort by cosine similarity values\n",
        "highcosdf = pd.DataFrame.from_dict(highestcossim, orient = 'index')\n",
        "highcosdf.columns = ['Cosine Similarity']\n",
        "highcosdf = highcosdf.sort_values('Cosine Similarity', ascending=False)\n",
        "highcosdf\n",
        "\n"
      ],
      "metadata": {
        "colab": {
          "base_uri": "https://localhost:8080/",
          "height": 424
        },
        "id": "qHpAIiqzltvB",
        "outputId": "473d7f9c-84c7-4efe-fa2c-619029486a7f"
      },
      "execution_count": 36,
      "outputs": [
        {
          "output_type": "execute_result",
          "data": {
            "text/plain": [
              "                                                    Cosine Similarity\n",
              "/content/gdrive/My Drive/movie_scripts/Script_C...           0.754754\n",
              "/content/gdrive/My Drive/movie_scripts/Script_B...           0.690253\n",
              "/content/gdrive/My Drive/movie_scripts/Script_F...           0.687507\n",
              "/content/gdrive/My Drive/movie_scripts/Script_O...           0.671200\n",
              "/content/gdrive/My Drive/movie_scripts/Script_T...           0.652544\n",
              "...                                                               ...\n",
              "/content/gdrive/My Drive/movie_scripts/Script_A...           0.391806\n",
              "/content/gdrive/My Drive/movie_scripts/Script_B...           0.388016\n",
              "/content/gdrive/My Drive/movie_scripts/Script_E...           0.381665\n",
              "/content/gdrive/My Drive/movie_scripts/Script_G...           0.380264\n",
              "/content/gdrive/My Drive/movie_scripts/Script_S...           0.375125\n",
              "\n",
              "[1092 rows x 1 columns]"
            ],
            "text/html": [
              "\n",
              "  <div id=\"df-f41f0504-2819-4892-8f53-f61063be74c4\">\n",
              "    <div class=\"colab-df-container\">\n",
              "      <div>\n",
              "<style scoped>\n",
              "    .dataframe tbody tr th:only-of-type {\n",
              "        vertical-align: middle;\n",
              "    }\n",
              "\n",
              "    .dataframe tbody tr th {\n",
              "        vertical-align: top;\n",
              "    }\n",
              "\n",
              "    .dataframe thead th {\n",
              "        text-align: right;\n",
              "    }\n",
              "</style>\n",
              "<table border=\"1\" class=\"dataframe\">\n",
              "  <thead>\n",
              "    <tr style=\"text-align: right;\">\n",
              "      <th></th>\n",
              "      <th>Cosine Similarity</th>\n",
              "    </tr>\n",
              "  </thead>\n",
              "  <tbody>\n",
              "    <tr>\n",
              "      <th>/content/gdrive/My Drive/movie_scripts/Script_Cars 2.txt</th>\n",
              "      <td>0.754754</td>\n",
              "    </tr>\n",
              "    <tr>\n",
              "      <th>/content/gdrive/My Drive/movie_scripts/Script_Big.txt</th>\n",
              "      <td>0.690253</td>\n",
              "    </tr>\n",
              "    <tr>\n",
              "      <th>/content/gdrive/My Drive/movie_scripts/Script_Finding Nemo.txt</th>\n",
              "      <td>0.687507</td>\n",
              "    </tr>\n",
              "    <tr>\n",
              "      <th>/content/gdrive/My Drive/movie_scripts/Script_Office Space.txt</th>\n",
              "      <td>0.671200</td>\n",
              "    </tr>\n",
              "    <tr>\n",
              "      <th>/content/gdrive/My Drive/movie_scripts/Script_True Romance.txt</th>\n",
              "      <td>0.652544</td>\n",
              "    </tr>\n",
              "    <tr>\n",
              "      <th>...</th>\n",
              "      <td>...</td>\n",
              "    </tr>\n",
              "    <tr>\n",
              "      <th>/content/gdrive/My Drive/movie_scripts/Script_Army of Darkness.txt</th>\n",
              "      <td>0.391806</td>\n",
              "    </tr>\n",
              "    <tr>\n",
              "      <th>/content/gdrive/My Drive/movie_scripts/Script_Black Swan.txt</th>\n",
              "      <td>0.388016</td>\n",
              "    </tr>\n",
              "    <tr>\n",
              "      <th>/content/gdrive/My Drive/movie_scripts/Script_Evil Dead II_ Dead by Dawn.txt</th>\n",
              "      <td>0.381665</td>\n",
              "    </tr>\n",
              "    <tr>\n",
              "      <th>/content/gdrive/My Drive/movie_scripts/Script_Ghostbusters.txt</th>\n",
              "      <td>0.380264</td>\n",
              "    </tr>\n",
              "    <tr>\n",
              "      <th>/content/gdrive/My Drive/movie_scripts/Script_Shining, The.txt</th>\n",
              "      <td>0.375125</td>\n",
              "    </tr>\n",
              "  </tbody>\n",
              "</table>\n",
              "<p>1092 rows × 1 columns</p>\n",
              "</div>\n",
              "      <button class=\"colab-df-convert\" onclick=\"convertToInteractive('df-f41f0504-2819-4892-8f53-f61063be74c4')\"\n",
              "              title=\"Convert this dataframe to an interactive table.\"\n",
              "              style=\"display:none;\">\n",
              "        \n",
              "  <svg xmlns=\"http://www.w3.org/2000/svg\" height=\"24px\"viewBox=\"0 0 24 24\"\n",
              "       width=\"24px\">\n",
              "    <path d=\"M0 0h24v24H0V0z\" fill=\"none\"/>\n",
              "    <path d=\"M18.56 5.44l.94 2.06.94-2.06 2.06-.94-2.06-.94-.94-2.06-.94 2.06-2.06.94zm-11 1L8.5 8.5l.94-2.06 2.06-.94-2.06-.94L8.5 2.5l-.94 2.06-2.06.94zm10 10l.94 2.06.94-2.06 2.06-.94-2.06-.94-.94-2.06-.94 2.06-2.06.94z\"/><path d=\"M17.41 7.96l-1.37-1.37c-.4-.4-.92-.59-1.43-.59-.52 0-1.04.2-1.43.59L10.3 9.45l-7.72 7.72c-.78.78-.78 2.05 0 2.83L4 21.41c.39.39.9.59 1.41.59.51 0 1.02-.2 1.41-.59l7.78-7.78 2.81-2.81c.8-.78.8-2.07 0-2.86zM5.41 20L4 18.59l7.72-7.72 1.47 1.35L5.41 20z\"/>\n",
              "  </svg>\n",
              "      </button>\n",
              "      \n",
              "  <style>\n",
              "    .colab-df-container {\n",
              "      display:flex;\n",
              "      flex-wrap:wrap;\n",
              "      gap: 12px;\n",
              "    }\n",
              "\n",
              "    .colab-df-convert {\n",
              "      background-color: #E8F0FE;\n",
              "      border: none;\n",
              "      border-radius: 50%;\n",
              "      cursor: pointer;\n",
              "      display: none;\n",
              "      fill: #1967D2;\n",
              "      height: 32px;\n",
              "      padding: 0 0 0 0;\n",
              "      width: 32px;\n",
              "    }\n",
              "\n",
              "    .colab-df-convert:hover {\n",
              "      background-color: #E2EBFA;\n",
              "      box-shadow: 0px 1px 2px rgba(60, 64, 67, 0.3), 0px 1px 3px 1px rgba(60, 64, 67, 0.15);\n",
              "      fill: #174EA6;\n",
              "    }\n",
              "\n",
              "    [theme=dark] .colab-df-convert {\n",
              "      background-color: #3B4455;\n",
              "      fill: #D2E3FC;\n",
              "    }\n",
              "\n",
              "    [theme=dark] .colab-df-convert:hover {\n",
              "      background-color: #434B5C;\n",
              "      box-shadow: 0px 1px 3px 1px rgba(0, 0, 0, 0.15);\n",
              "      filter: drop-shadow(0px 1px 2px rgba(0, 0, 0, 0.3));\n",
              "      fill: #FFFFFF;\n",
              "    }\n",
              "  </style>\n",
              "\n",
              "      <script>\n",
              "        const buttonEl =\n",
              "          document.querySelector('#df-f41f0504-2819-4892-8f53-f61063be74c4 button.colab-df-convert');\n",
              "        buttonEl.style.display =\n",
              "          google.colab.kernel.accessAllowed ? 'block' : 'none';\n",
              "\n",
              "        async function convertToInteractive(key) {\n",
              "          const element = document.querySelector('#df-f41f0504-2819-4892-8f53-f61063be74c4');\n",
              "          const dataTable =\n",
              "            await google.colab.kernel.invokeFunction('convertToInteractive',\n",
              "                                                     [key], {});\n",
              "          if (!dataTable) return;\n",
              "\n",
              "          const docLinkHtml = 'Like what you see? Visit the ' +\n",
              "            '<a target=\"_blank\" href=https://colab.research.google.com/notebooks/data_table.ipynb>data table notebook</a>'\n",
              "            + ' to learn more about interactive tables.';\n",
              "          element.innerHTML = '';\n",
              "          dataTable['output_type'] = 'display_data';\n",
              "          await google.colab.output.renderOutput(dataTable, element);\n",
              "          const docLink = document.createElement('div');\n",
              "          docLink.innerHTML = docLinkHtml;\n",
              "          element.appendChild(docLink);\n",
              "        }\n",
              "      </script>\n",
              "    </div>\n",
              "  </div>\n",
              "  "
            ]
          },
          "metadata": {},
          "execution_count": 36
        }
      ]
    },
    {
      "cell_type": "code",
      "source": [
        "#Download results to a csv file\n",
        "from google.colab import files\n",
        "highcosdf.to_csv('highcosdf.csv')\n",
        "files.download('highcosdf.csv')\n"
      ],
      "metadata": {
        "colab": {
          "base_uri": "https://localhost:8080/",
          "height": 17
        },
        "id": "WEzfmAmjYJLG",
        "outputId": "75a28c54-59fb-43e7-9376-ec7788b021ba"
      },
      "execution_count": 37,
      "outputs": [
        {
          "output_type": "display_data",
          "data": {
            "text/plain": [
              "<IPython.core.display.Javascript object>"
            ],
            "application/javascript": [
              "\n",
              "    async function download(id, filename, size) {\n",
              "      if (!google.colab.kernel.accessAllowed) {\n",
              "        return;\n",
              "      }\n",
              "      const div = document.createElement('div');\n",
              "      const label = document.createElement('label');\n",
              "      label.textContent = `Downloading \"${filename}\": `;\n",
              "      div.appendChild(label);\n",
              "      const progress = document.createElement('progress');\n",
              "      progress.max = size;\n",
              "      div.appendChild(progress);\n",
              "      document.body.appendChild(div);\n",
              "\n",
              "      const buffers = [];\n",
              "      let downloaded = 0;\n",
              "\n",
              "      const channel = await google.colab.kernel.comms.open(id);\n",
              "      // Send a message to notify the kernel that we're ready.\n",
              "      channel.send({})\n",
              "\n",
              "      for await (const message of channel.messages) {\n",
              "        // Send a message to notify the kernel that we're ready.\n",
              "        channel.send({})\n",
              "        if (message.buffers) {\n",
              "          for (const buffer of message.buffers) {\n",
              "            buffers.push(buffer);\n",
              "            downloaded += buffer.byteLength;\n",
              "            progress.value = downloaded;\n",
              "          }\n",
              "        }\n",
              "      }\n",
              "      const blob = new Blob(buffers, {type: 'application/binary'});\n",
              "      const a = document.createElement('a');\n",
              "      a.href = window.URL.createObjectURL(blob);\n",
              "      a.download = filename;\n",
              "      div.appendChild(a);\n",
              "      a.click();\n",
              "      div.remove();\n",
              "    }\n",
              "  "
            ]
          },
          "metadata": {}
        },
        {
          "output_type": "display_data",
          "data": {
            "text/plain": [
              "<IPython.core.display.Javascript object>"
            ],
            "application/javascript": [
              "download(\"download_78e514f7-043b-47e1-979c-4e8189d2d0cd\", \"highcosdf.csv\", 92711)"
            ]
          },
          "metadata": {}
        }
      ]
    }
  ]
}